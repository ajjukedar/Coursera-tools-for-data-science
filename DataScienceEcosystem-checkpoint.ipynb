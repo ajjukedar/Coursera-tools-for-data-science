{
 "cells": [
  {
   "cell_type": "markdown",
   "id": "f43fa347",
   "metadata": {},
   "source": [
    "# Data Science Tools and Ecosystem"
   ]
  },
  {
   "cell_type": "markdown",
   "id": "bfc7acb4",
   "metadata": {},
   "source": [
    "## In this notebook, Data Science Tools and Ecosystem are summarized."
   ]
  },
  {
   "cell_type": "markdown",
   "id": "221d2443",
   "metadata": {},
   "source": [
    "### Some of the popular languages that Data Scientists use are:\n",
    "    1)python\n",
    "    2)R-software\n",
    "    3)scala\n",
    "    4)SQL\n",
    "    5)Julia\n",
    "    6)MATLAB\n",
    " "
   ]
  },
  {
   "cell_type": "markdown",
   "id": "696c45c3",
   "metadata": {},
   "source": [
    "## Some of the commonly used libraries used by Data Scientists include:\n",
    "    1)Numpy\n",
    "    2) Pandas\n",
    "    3) Matplotlib\n",
    "    4) Seaborn\n",
    "    5) scikit-learn\n",
    "    6) TensorFlow\n",
    "    7) keras\n",
    "    8) pytorch\n",
    "    9) NLTK\n",
    "    10) Scipy\n",
    "    11) Statsmodels\n",
    "    12) XGBoost\n",
    "    13) LightGBM"
   ]
  },
  {
   "cell_type": "markdown",
   "id": "6c658aa8",
   "metadata": {},
   "source": [
    "| Data Science Tools |\n",
    "| :----------------- |\n",
    "| Jupyter Notebook  |\n",
    "| RStudio           |\n",
    "| Apache Zeppelin   |\n"
   ]
  },
  {
   "cell_type": "markdown",
   "id": "3dc2c784",
   "metadata": {},
   "source": [
    "### Below are a few examples of evaluating arithmetic expressions in Python"
   ]
  },
  {
   "cell_type": "code",
   "execution_count": 2,
   "id": "6744894d",
   "metadata": {},
   "outputs": [
    {
     "data": {
      "text/plain": [
       "17"
      ]
     },
     "execution_count": 2,
     "metadata": {},
     "output_type": "execute_result"
    }
   ],
   "source": [
    "#This a simple arithmetic expression to mutiply then add integers\n",
    "(3*4)+5"
   ]
  },
  {
   "cell_type": "code",
   "execution_count": 3,
   "id": "a9b838fb",
   "metadata": {},
   "outputs": [
    {
     "data": {
      "text/plain": [
       "3.3333333333333335"
      ]
     },
     "execution_count": 3,
     "metadata": {},
     "output_type": "execute_result"
    }
   ],
   "source": [
    "#This will convert 200 minutes to hours by diving by 60\n",
    "200/60"
   ]
  },
  {
   "cell_type": "markdown",
   "id": "bd170155",
   "metadata": {},
   "source": [
    "**Objectives:**\n",
    "\n",
    "- List popular programming languages for Data Science.\n",
    "- Explore data preprocessing and cleaning techniques.\n",
    "- Understand data visualization and exploratory data analysis.\n",
    "- Apply various machine learning algorithms for classification and regression tasks.\n",
    "- Learn about model evaluation and selection techniques.\n",
    "- Understand the basics of deep learning and neural networks.\n",
    "- Explore natural language processing (NLP) techniques.\n",
    "- Gain knowledge of recommendation systems and collaborative filtering.\n",
    "- Understand time series analysis and forecasting.\n",
    "- Learn about unsupervised learning techniques such as clustering and dimensionality reduction.\n"
   ]
  },
  {
   "cell_type": "markdown",
   "id": "2c51612d",
   "metadata": {},
   "source": [
    "## Author : Ajay Manohar Kedar"
   ]
  },
  {
   "cell_type": "code",
   "execution_count": null,
   "id": "caa779e3",
   "metadata": {},
   "outputs": [],
   "source": []
  }
 ],
 "metadata": {
  "kernelspec": {
   "display_name": "Python 3 (ipykernel)",
   "language": "python",
   "name": "python3"
  },
  "language_info": {
   "codemirror_mode": {
    "name": "ipython",
    "version": 3
   },
   "file_extension": ".py",
   "mimetype": "text/x-python",
   "name": "python",
   "nbconvert_exporter": "python",
   "pygments_lexer": "ipython3",
   "version": "3.10.9"
  }
 },
 "nbformat": 4,
 "nbformat_minor": 5
}
